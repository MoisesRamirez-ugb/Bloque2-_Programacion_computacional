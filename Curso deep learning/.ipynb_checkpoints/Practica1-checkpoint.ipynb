{
 "cells": [
  {
   "cell_type": "markdown",
   "id": "5e1ebacd-7922-446d-9fa5-61a5574ea49f",
   "metadata": {},
   "source": [
    "Esto es una celda de texto. jjj"
   ]
  },
  {
   "cell_type": "code",
   "execution_count": null,
   "id": "ef611ddf-4eda-4b3e-b605-f2b78125ea21",
   "metadata": {},
   "outputs": [],
   "source": [
    "print('Hola mundo')"
   ]
  },
  {
   "cell_type": "code",
   "execution_count": null,
   "id": "7ddbb1f0-002f-4469-b1ff-cce2eeaa5c38",
   "metadata": {},
   "outputs": [],
   "source": [
    "print('Hola mundo 2')"
   ]
  },
  {
   "cell_type": "code",
   "execution_count": null,
   "id": "caee8a9f-c2f3-41fe-bea4-e2e8c835edb6",
   "metadata": {},
   "outputs": [],
   "source": [
    "print('Hola mundo 3') "
   ]
  },
  {
   "cell_type": "code",
   "execution_count": null,
   "id": "05476e0a-234c-42d6-9731-7e8e23171fc1",
   "metadata": {},
   "outputs": [],
   "source": [
    "texto = 'Hola mundo' "
   ]
  },
  {
   "cell_type": "code",
   "execution_count": null,
   "id": "dd8a65e2-19b2-44f3-ab55-500f7cc6abfa",
   "metadata": {},
   "outputs": [],
   "source": [
    "print(texto) "
   ]
  },
  {
   "cell_type": "code",
   "execution_count": null,
   "id": "3cfc1942-a338-4f90-baf0-7d36235c179b",
   "metadata": {},
   "outputs": [],
   "source": []
  }
 ],
 "metadata": {
  "kernelspec": {
   "display_name": "Python 3 (ipykernel)",
   "language": "python",
   "name": "python3"
  },
  "language_info": {
   "codemirror_mode": {
    "name": "ipython",
    "version": 3
   },
   "file_extension": ".py",
   "mimetype": "text/x-python",
   "name": "python",
   "nbconvert_exporter": "python",
   "pygments_lexer": "ipython3",
   "version": "3.8.20"
  }
 },
 "nbformat": 4,
 "nbformat_minor": 5
}
